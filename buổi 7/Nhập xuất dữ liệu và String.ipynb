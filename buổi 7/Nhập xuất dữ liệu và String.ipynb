{
 "cells": [
  {
   "cell_type": "markdown",
   "id": "7ac14915",
   "metadata": {},
   "source": [
    "# Nhập xuất dữ liệu và String\n",
    "## Cách nhập xuất dữ liệu"
   ]
  },
  {
   "cell_type": "markdown",
   "id": "0f202ae8",
   "metadata": {},
   "source": [
    "### Xuất dữ liệu ra màn hình\n",
    "Để in các nội dung mà chúng ta mong muốn ra màn hình, ta sử dụng lệnh print()"
   ]
  },
  {
   "cell_type": "code",
   "execution_count": null,
   "id": "a6d3f260",
   "metadata": {},
   "outputs": [],
   "source": [
    "# Ví dụ: In ra nội dung \"python is very easy\"\n"
   ]
  },
  {
   "cell_type": "markdown",
   "id": "7733925a",
   "metadata": {},
   "source": [
    "### Các cách custom với lệnh print"
   ]
  },
  {
   "cell_type": "markdown",
   "id": "292ab570",
   "metadata": {},
   "source": [
    "Để in một nội dung kèm theo giá trị của biến, ta có các cách sau:"
   ]
  },
  {
   "cell_type": "code",
   "execution_count": null,
   "id": "20ff912c",
   "metadata": {},
   "outputs": [],
   "source": [
    "food_1 = \"chocolate\"\n",
    "food_2 = \"sandwich\""
   ]
  },
  {
   "cell_type": "code",
   "execution_count": 1,
   "id": "6407a448",
   "metadata": {},
   "outputs": [
    {
     "name": "stdout",
     "output_type": "stream",
     "text": [
      "i love chocolate and  i hate sanwich\n"
     ]
    }
   ],
   "source": [
    "print(\"i love chocolate and  i hate sanwich\")"
   ]
  },
  {
   "cell_type": "code",
   "execution_count": 6,
   "id": "27d098b8",
   "metadata": {},
   "outputs": [
    {
     "name": "stdout",
     "output_type": "stream",
     "text": [
      "i love+chocolate+and i hate+sandwich\n"
     ]
    }
   ],
   "source": [
    "food_1 = \"chocolate\"\n",
    "food_2 = \"sandwich\"\n",
    "print(\"i love\",food_1,\"and i hate\",food_2,sep=\"+\")"
   ]
  },
  {
   "cell_type": "code",
   "execution_count": 8,
   "id": "717666f2",
   "metadata": {},
   "outputs": [
    {
     "name": "stdout",
     "output_type": "stream",
     "text": [
      "i love chocolate and i hate sandwich\n"
     ]
    }
   ],
   "source": [
    "# Sử dụng String Format\n",
    "print(f\"i love {food_1} and i hate {food_2}\")"
   ]
  },
  {
   "cell_type": "code",
   "execution_count": 10,
   "id": "c7276e05",
   "metadata": {
    "scrolled": true
   },
   "outputs": [
    {
     "name": "stdout",
     "output_type": "stream",
     "text": [
      "i love chocolate"
     ]
    }
   ],
   "source": [
    "# Sử dụng nhiều lệnh print\n",
    "print(\"i love\",end=\"\")\n",
    "print(\" chocolate\",end=\"\")"
   ]
  },
  {
   "cell_type": "markdown",
   "id": "e10788fb",
   "metadata": {},
   "source": [
    "### Nhập dữ liệu\n",
    "Để nhập dữ liệu vào chương trình python, chúng ta sử dụng hàm input()"
   ]
  },
  {
   "cell_type": "code",
   "execution_count": 12,
   "id": "b8b8afd3",
   "metadata": {},
   "outputs": [
    {
     "name": "stdout",
     "output_type": "stream",
     "text": [
      "please input your name:khang\n",
      "khang\n"
     ]
    }
   ],
   "source": [
    "name= input(\"please input your name:\")\n",
    "print(name)"
   ]
  },
  {
   "cell_type": "code",
   "execution_count": 19,
   "id": "5f4d8742",
   "metadata": {},
   "outputs": [
    {
     "name": "stdout",
     "output_type": "stream",
     "text": [
      "please input your name:2\n",
      "2.0\n"
     ]
    }
   ],
   "source": [
    "#type casting\n",
    "number = float(input(\"please input your name:\"))\n",
    "print(number)"
   ]
  },
  {
   "cell_type": "markdown",
   "id": "337f9c15",
   "metadata": {},
   "source": [
    "#### Thực hành: Viết chương trình nhập vào chiều dài và chiều rộng của hình chữ nhật, sau đó in ra chu vi và diện tích của hình chữ nhật đó"
   ]
  },
  {
   "cell_type": "code",
   "execution_count": 24,
   "id": "add68103",
   "metadata": {},
   "outputs": [
    {
     "name": "stdout",
     "output_type": "stream",
     "text": [
      "nhập chiều dài hình chữ nhật: 99\n",
      "nhập chiều rộng hình chữ nhật: 98\n"
     ]
    }
   ],
   "source": [
    "# Nhập các kích thước của hình chữ nhật\n",
    "chieudai = int(input(\"nhập chiều dài hình chữ nhật: \"))\n",
    "chieurong = int(input(\"nhập chiều rộng hình chữ nhật: \"))\n"
   ]
  },
  {
   "cell_type": "code",
   "execution_count": 26,
   "id": "7a1cd73e",
   "metadata": {},
   "outputs": [],
   "source": [
    "# Tính toán chu vi, diện tích\n",
    "chuvi = (chieudai + chieurong)*2\n",
    "dientich = (chieudai * chieurong)"
   ]
  },
  {
   "cell_type": "code",
   "execution_count": 32,
   "id": "d0adf735",
   "metadata": {},
   "outputs": [
    {
     "name": "stdout",
     "output_type": "stream",
     "text": [
      "chu vi là  394\n",
      "diện tích là  9702\n",
      "chu vi là 394\n",
      "diện tích là 9702\n",
      "chu vi là 394\n",
      "diện tích là 9702\n",
      "chu vi là 394\n",
      "diện tích là 9702\n"
     ]
    }
   ],
   "source": [
    "# In kết quả ra màn hình bằng 3 cách\n",
    "print(\"chu vi là \",chuvi)\n",
    "print(\"diện tích là \",dientich)\n",
    "print(\"chu vi là \" + str(chuvi))\n",
    "print(\"diện tích là \"+ str(dientich))\n",
    "print(f\"chu vi là {chuvi}\")\n",
    "print(f\"diện tích là {dientich}\")\n",
    "print(\"chu vi là \",end=\"\")\n",
    "print(chuvi)\n",
    "print(\"diện tích là \",end=\"\")\n",
    "print(dientich)"
   ]
  },
  {
   "cell_type": "markdown",
   "id": "fb54cb77",
   "metadata": {},
   "source": [
    "#### Thực hành: Viết chương trình nhập vào số đo cạnh và mã màu của tam giác đều, sau đó sử dụng turtle để vẽ ra hình tam giác có số đo và màu tương ứng"
   ]
  },
  {
   "cell_type": "code",
   "execution_count": null,
   "id": "7583b308",
   "metadata": {},
   "outputs": [],
   "source": []
  },
  {
   "cell_type": "markdown",
   "id": "fa7cb208",
   "metadata": {},
   "source": [
    "## Cú pháp import"
   ]
  },
  {
   "cell_type": "markdown",
   "id": "ab2a2ea5",
   "metadata": {},
   "source": [
    "Để sử dụng một module từ bên ngoài, chúng ta sẽ sử dụng từ khóa import. Sau đây là ví dụ về một số cách import phổ biến."
   ]
  },
  {
   "cell_type": "markdown",
   "id": "bd6de377",
   "metadata": {},
   "source": [
    "### Random một giá trị ngẫu nhiên"
   ]
  },
  {
   "cell_type": "code",
   "execution_count": null,
   "id": "ce5547f5",
   "metadata": {},
   "outputs": [],
   "source": []
  },
  {
   "cell_type": "markdown",
   "id": "dfa93dc0",
   "metadata": {},
   "source": [
    "### Thực hiện các phép toán số học"
   ]
  },
  {
   "cell_type": "code",
   "execution_count": 8,
   "id": "4f06f722",
   "metadata": {},
   "outputs": [],
   "source": [
    "# import toàn bộ module"
   ]
  },
  {
   "cell_type": "code",
   "execution_count": null,
   "id": "6b9e471b",
   "metadata": {},
   "outputs": [],
   "source": [
    "# import một phần trong module"
   ]
  },
  {
   "cell_type": "markdown",
   "id": "391969e7",
   "metadata": {},
   "source": [
    "## Xử lý String trong python"
   ]
  },
  {
   "cell_type": "markdown",
   "id": "ab461669",
   "metadata": {},
   "source": [
    "### String là gì?\n",
    "String là một chuỗi gồm các ký tự Unicode"
   ]
  },
  {
   "cell_type": "markdown",
   "id": "94a27b90",
   "metadata": {},
   "source": [
    "### Khởi tạo một string"
   ]
  },
  {
   "cell_type": "code",
   "execution_count": 37,
   "id": "b14f4fcc",
   "metadata": {},
   "outputs": [
    {
     "ename": "IndentationError",
     "evalue": "unindent does not match any outer indentation level (<tokenize>, line 4)",
     "output_type": "error",
     "traceback": [
      "\u001b[0;36m  File \u001b[0;32m<tokenize>:4\u001b[0;36m\u001b[0m\n\u001b[0;31m    c\u001b[0m\n\u001b[0m    ^\u001b[0m\n\u001b[0;31mIndentationError\u001b[0m\u001b[0;31m:\u001b[0m unindent does not match any outer indentation level\n"
     ]
    }
   ],
   "source": [
    "# one-line string\n",
    "lesson_content = \"\"a\n",
    "  b\n",
    " c\n",
    "\"\""
   ]
  },
  {
   "cell_type": "code",
   "execution_count": null,
   "id": "9cc506a7",
   "metadata": {},
   "outputs": [],
   "source": [
    "# multi-line string\n",
    "dùng hàm len"
   ]
  },
  {
   "cell_type": "markdown",
   "id": "8f4270fd",
   "metadata": {},
   "source": [
    "### Các thao tác phổ biến với string"
   ]
  },
  {
   "cell_type": "code",
   "execution_count": null,
   "id": "c825f890",
   "metadata": {},
   "outputs": [],
   "source": [
    "# Kiểm tra độ dài string\n",
    "dùng hàm len\n"
   ]
  },
  {
   "cell_type": "code",
   "execution_count": null,
   "id": "6de96621",
   "metadata": {},
   "outputs": [],
   "source": [
    "# Truy xuất ký tự bằng cơ chế indexing và reverse indexing"
   ]
  },
  {
   "cell_type": "markdown",
   "id": "a4f949d9",
   "metadata": {},
   "source": [
    "#### Thực hành: Viết chương trình nhập vào một chuỗi bất kỳ, sau đó in ra ký tự đầu tiên và ký tự cuối cùng của chuỗi đó."
   ]
  },
  {
   "cell_type": "code",
   "execution_count": 43,
   "id": "14833f18",
   "metadata": {},
   "outputs": [
    {
     "name": "stdout",
     "output_type": "stream",
     "text": [
      "9\n",
      "4\n"
     ]
    }
   ],
   "source": [
    "số_thứ_tự = \"999932824\"\n",
    "print(số_thứ_tự[0])\n",
    "print(số_thứ_tự[-1])"
   ]
  },
  {
   "cell_type": "code",
   "execution_count": 51,
   "id": "9aad2f16",
   "metadata": {},
   "outputs": [
    {
     "name": "stdout",
     "output_type": "stream",
     "text": [
      "python\n",
      "pto\n",
      "string\n"
     ]
    }
   ],
   "source": [
    "# Cắt string theo index\n",
    "#cú pháp: <tên biến>[start:end:step]\n",
    "#step là nhảy bước step giá trị 1 stảt = 0 , end=len()\n",
    "content = \"long,python,3-5-7,string\"\n",
    "print(content[5:11])\n",
    "print(content[5:11:2])\n",
    "print(content[18:999])\n"
   ]
  },
  {
   "cell_type": "code",
   "execution_count": null,
   "id": "6ec63f90",
   "metadata": {},
   "outputs": [],
   "source": [
    "# Ghép chuỗi và lặp chuỗi\n"
   ]
  },
  {
   "cell_type": "markdown",
   "id": "84c2dcb9",
   "metadata": {},
   "source": [
    "#### Thực hành: Xử lý và in ra các thông tin tương ứng trong chuỗi"
   ]
  },
  {
   "cell_type": "code",
   "execution_count": null,
   "id": "cd71f135",
   "metadata": {},
   "outputs": [],
   "source": []
  },
  {
   "cell_type": "markdown",
   "id": "7cbd965f",
   "metadata": {},
   "source": [
    "### Các hàm thông dụng khi xử lý string"
   ]
  },
  {
   "cell_type": "code",
   "execution_count": 1,
   "id": "eb5932a1",
   "metadata": {},
   "outputs": [
    {
     "name": "stdout",
     "output_type": "stream",
     "text": [
      "7\n"
     ]
    }
   ],
   "source": [
    "# len\n",
    "print(len(\"1212312\"))"
   ]
  },
  {
   "cell_type": "code",
   "execution_count": 18,
   "id": "6bef6d33",
   "metadata": {},
   "outputs": [
    {
     "name": "stdout",
     "output_type": "stream",
     "text": [
      "1\n"
     ]
    }
   ],
   "source": [
    "# count\n",
    "content=\"python\"\n",
    "print(content.count(\"python\"))\n",
    "#CÓ PHÂN BIỆT CHƯ HOA VÀ CHƯ THƯỜNG"
   ]
  },
  {
   "cell_type": "code",
   "execution_count": 4,
   "id": "1582bbd8",
   "metadata": {},
   "outputs": [
    {
     "name": "stdout",
     "output_type": "stream",
     "text": [
      "MÁY NƯỚC NÓNG\n",
      "máy nước nóng\n",
      "Máy nước nóng\n"
     ]
    }
   ],
   "source": [
    "# upper, lower\n",
    "content = \"Máy nước nóng\"\n",
    "print(content.upper())\n",
    "print(content.lower())\n",
    "print(content.capitalize()) # viết hoa chữ cái đầu\n",
    "\n",
    "\n"
   ]
  },
  {
   "cell_type": "code",
   "execution_count": 16,
   "id": "0d08f708",
   "metadata": {},
   "outputs": [
    {
     "name": "stdout",
     "output_type": "stream",
     "text": [
      "Máy nước nóng,,,,,, \n",
      "    Máy nước nóng,,,,,,\n",
      "Máy nước nóng,,,,,,\n",
      "    Máy nước nóng\n"
     ]
    }
   ],
   "source": [
    "# lstrip, rstrip, strip\n",
    "#trailing white spaces 余る空白\n",
    "content=\"    Máy nước nóng,,,,,, \" #最後のある分は空白なんで”、”入力しても望ましい結果が出てこない\n",
    "print(content.lstrip())#左の方を除く\n",
    "print(content.rstrip()) # 右の方を除く\n",
    "print(content.strip()) #両方とも\n",
    "#空白以外\n",
    "print(content.rstrip(\" \").rstrip(\",\"))"
   ]
  },
  {
   "cell_type": "code",
   "execution_count": 13,
   "id": "62180d52",
   "metadata": {},
   "outputs": [
    {
     "name": "stdout",
     "output_type": "stream",
     "text": [
      "['my', 'name', 'is', 'long']\n"
     ]
    }
   ],
   "source": [
    "# split()\n",
    "content = \"my name is long\"\n",
    "print(content.split())\n"
   ]
  },
  {
   "cell_type": "markdown",
   "id": "032ba1fc",
   "metadata": {},
   "source": []
  }
 ],
 "metadata": {
  "kernelspec": {
   "display_name": "Python 3 (ipykernel)",
   "language": "python",
   "name": "python3"
  },
  "language_info": {
   "codemirror_mode": {
    "name": "ipython",
    "version": 3
   },
   "file_extension": ".py",
   "mimetype": "text/x-python",
   "name": "python",
   "nbconvert_exporter": "python",
   "pygments_lexer": "ipython3",
   "version": "3.11.3"
  }
 },
 "nbformat": 4,
 "nbformat_minor": 5
}
